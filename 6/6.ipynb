{
 "cells": [
  {
   "cell_type": "code",
   "execution_count": 54,
   "id": "d6d8219f",
   "metadata": {},
   "outputs": [
    {
     "name": "stdout",
     "output_type": "stream",
     "text": [
      "x-shape: (8124, 119)\n",
      "y-shape: (8124, 2)\n"
     ]
    },
    {
     "data": {
      "text/plain": [
       "array(['edibility_e', 'edibility_p', 'odor_f', 'odor_n',\n",
       "       'stalk-surface-above-ring_k'], dtype=object)"
      ]
     },
     "execution_count": 54,
     "metadata": {},
     "output_type": "execute_result"
    }
   ],
   "source": [
    "#Oppgave A\n",
    "import pandas as pd\n",
    "from sklearn.feature_selection import SelectKBest\n",
    "from sklearn.feature_selection import chi2\n",
    "import numpy as np\n",
    "\n",
    "data = pd.read_csv(\"agaricus-lepiota.csv\")\n",
    "\n",
    "x = pd.get_dummies(data)\n",
    "y = pd.get_dummies(data['edibility'])\n",
    "print(f\"x-shape: {x.shape}\")\n",
    "print(f\"y-shape: {y.shape}\")\n",
    "\n",
    "skb = SelectKBest(chi2, k=5)\n",
    "skb.fit(x,y)\n",
    "x_new = skb.transform(x)\n",
    "\n",
    "np.array(x.columns)[skb.get_support(indices=True)]"
   ]
  },
  {
   "cell_type": "code",
   "execution_count": 53,
   "id": "64514e81",
   "metadata": {},
   "outputs": [
    {
     "name": "stdout",
     "output_type": "stream",
     "text": [
      "(8124, 5)\n",
      "Features med størst varians: \n",
      "1\n",
      "edibility_p\n",
      "54\n",
      "stalk-root_b\n",
      "113\n",
      "habitat_g\n",
      "52\n",
      "stalk-shape_t\n",
      "29\n",
      "odor_n\n"
     ]
    }
   ],
   "source": [
    "#Oppgave B\n",
    "import pandas as pd\n",
    "from sklearn import decomposition\n",
    "import numpy as np\n",
    "\n",
    "data = pd.read_csv(\"agaricus-lepiota.csv\")\n",
    "x = pd.get_dummies(data)\n",
    "\n",
    "from sklearn import preprocessing\n",
    "\n",
    "pca = decomposition.PCA(n_components=5)\n",
    "pca.fit(x)\n",
    "xpca = pca.transform(x)\n",
    "\n",
    "print(xpca.shape)\n",
    "\n",
    "print(\"Features med størst varians: \")\n",
    "for i in range (5):\n",
    "    feature_index = pca.components_[i].argmax() #indexen featuren ligger på\n",
    "    print(x.columns[feature_index]) #printer featuren\n"
   ]
  },
  {
   "cell_type": "code",
   "execution_count": null,
   "id": "6127e66f",
   "metadata": {},
   "outputs": [],
   "source": [
    "#Oppgave C\n",
    "#Edibility_p og odor_n er begge en av de mest diskriminative featurene, men også en av de med mest varians"
   ]
  }
 ],
 "metadata": {
  "kernelspec": {
   "display_name": "Python 3 (ipykernel)",
   "language": "python",
   "name": "python3"
  },
  "language_info": {
   "codemirror_mode": {
    "name": "ipython",
    "version": 3
   },
   "file_extension": ".py",
   "mimetype": "text/x-python",
   "name": "python",
   "nbconvert_exporter": "python",
   "pygments_lexer": "ipython3",
   "version": "3.9.7"
  }
 },
 "nbformat": 4,
 "nbformat_minor": 5
}
